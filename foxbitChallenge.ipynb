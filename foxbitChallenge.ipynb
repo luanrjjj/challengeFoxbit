{
 "cells": [
  {
   "cell_type": "code",
   "execution_count": 93,
   "metadata": {},
   "outputs": [],
   "source": [
    "import unittest\n",
    "\n",
    "class Calculate:\n",
    "    coordinates = ['N', 'E', 'S', 'W']\n",
    "\n",
    "    def get_direction(self, rotationCommand, index):\n",
    "         coordinates = Calculate.coordinates\n",
    "         if (rotationCommand == 'L'): \n",
    "            return coordinates[index - 1] if (index - 1 >= 0) else coordinates[len(coordinates) - 1]\n",
    "         elif (rotationCommand == 'R'):\n",
    "            return coordinates[index + 1] if (index + 1 < len(coordinates)) else coordinates[0]\n",
    "\n",
    "    def calculate_value (self, xAccumulator, yAccumulator, direction):\n",
    "        additionalX = 0\n",
    "        additionalY = 0\n",
    "        match direction:\n",
    "            case \"N\":\n",
    "                additionalY = 1\n",
    "            case \"S\":\n",
    "                additionalY = -1\n",
    "            case \"E\":\n",
    "                additionalX = 1\n",
    "            case \"W\":\n",
    "                additionalX = -1\n",
    "        xAccumulator += additionalX\n",
    "        yAccumulator += additionalY\n",
    "        return [xAccumulator, yAccumulator]\n",
    "            \n",
    "    def calculate_coordinates(self, xInitial, yInitial, direction, commands):\n",
    "        if not direction:\n",
    "            raise Exception(\"It's necessary give a initial direction\") \n",
    "        if not commands: \n",
    "            return [xInitial, yInitial]\n",
    "        coordinates = Calculate.coordinates\n",
    "        index = coordinates.index(direction)\n",
    "        xAcc = xInitial\n",
    "        yAcc = yInitial\n",
    "        for value in commands:            \n",
    "            if (value == 'L' or value == 'R'): \n",
    "                direction = self.get_direction(value, index)\n",
    "                index = coordinates.index(direction)\n",
    "            else: \n",
    "                [xAcc, yAcc] = self.calculate_value(xAcc, yAcc, direction)\n",
    "        \n",
    "        return [xAcc, yAcc]\n",
    "\n"
   ]
  },
  {
   "cell_type": "code",
   "execution_count": 94,
   "metadata": {},
   "outputs": [
    {
     "name": "stderr",
     "output_type": "stream",
     "text": [
      "test_case_1 (__main__.Test) ... ok\n",
      "test_case_2 (__main__.Test) ... ok\n",
      "test_case_3 (__main__.Test) ... ok\n",
      "test_case_4 (__main__.Test) ... ok\n",
      "\n",
      "----------------------------------------------------------------------\n",
      "Ran 4 tests in 0.012s\n",
      "\n",
      "OK\n"
     ]
    }
   ],
   "source": [
    "calculate = Calculate()\n",
    "class Test(unittest.TestCase):\n",
    "    def test_case_1(self):\n",
    "        output = calculate.calculate_coordinates(3,3,'E','MMRMMRMRRM' )\n",
    "        self.assertEqual(output, [5,1])\n",
    "\n",
    "    def test_case_2(self):\n",
    "        output = calculate.calculate_coordinates(1, 2, 'N', 'LMLMLMLMM')\n",
    "        self.assertEqual(output, [1,3])\n",
    "    \n",
    "    def test_case_3(self):\n",
    "        with self.assertRaises(Exception) as context:\n",
    "            calculate.calculate_coordinates(0, 0,'', '')\n",
    "        self.assertTrue(\"It's necessary give a initial direction\" in str(context.exception))\n",
    "\n",
    "    def test_case_4(self):\n",
    "        output = calculate.calculate_coordinates(1, 2, 'N', '')\n",
    "        self.assertEqual(output, [1,2])\n",
    "\n",
    "res = unittest.main(argv=[''], verbosity=4, exit=False)"
   ]
  },
  {
   "cell_type": "code",
   "execution_count": null,
   "metadata": {},
   "outputs": [],
   "source": []
  },
  {
   "cell_type": "code",
   "execution_count": null,
   "metadata": {},
   "outputs": [],
   "source": []
  }
 ],
 "metadata": {
  "kernelspec": {
   "display_name": "Python 3",
   "language": "python",
   "name": "python3"
  },
  "language_info": {
   "codemirror_mode": {
    "name": "ipython",
    "version": 3
   },
   "file_extension": ".py",
   "mimetype": "text/x-python",
   "name": "python",
   "nbconvert_exporter": "python",
   "pygments_lexer": "ipython3",
   "version": "3.10.6"
  },
  "orig_nbformat": 4,
  "vscode": {
   "interpreter": {
    "hash": "916dbcbb3f70747c44a77c7bcd40155683ae19c65e1c03b4aa3499c5328201f1"
   }
  }
 },
 "nbformat": 4,
 "nbformat_minor": 2
}
