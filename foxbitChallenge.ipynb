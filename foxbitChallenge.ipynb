{
 "cells": [
  {
   "cell_type": "code",
   "execution_count": 32,
   "metadata": {},
   "outputs": [],
   "source": [
    "import unittest\n",
    "from io import StringIO\n",
    "## (x,y)\n",
    "class Calculate:\n",
    "    def calculate_coordinates(self, xInitial, yInitial, direction, commands):\n",
    "        coordinates = ['N', 'E', 'S', 'W']\n",
    "        index = coordinates.index(direction)\n",
    "        # initialCoordinates = {'N': (0, yInitial), 'E': (xInitial,0) , 'S': (0, -yInitial), 'W': (-xInitial, 0)}\n",
    "        xAcc = xInitial\n",
    "        yAcc = yInitial\n",
    "        if not direction:\n",
    "            print(\"It's necessary give a initial direction\")\n",
    "        for value in commands:\n",
    "            \n",
    "            print(\"value\", value)\n",
    "            if (value == 'L'): \n",
    "                direction = coordinates[index - 1] if (index - 1 >= 0) else coordinates[len(coordinates) - 1]\n",
    "                index = coordinates.index(direction)\n",
    "            elif (value == 'R'):\n",
    "                direction = coordinates[index + 1] if (index + 1 < len(coordinates)) else coordinates[0]\n",
    "                index = coordinates.index(direction)\n",
    "            else: \n",
    "                additionalX = 0\n",
    "                additionalY = 0\n",
    "                print(\"direction\", direction)\n",
    "                match direction:\n",
    "                    case \"N\":\n",
    "                        additionalY = 1\n",
    "                    case \"S\":\n",
    "                        additionalY = -1\n",
    "                    case \"E\":\n",
    "                        additionalX = 1\n",
    "                    case \"W\":\n",
    "                        additionalX = -1 \n",
    "                print(\"additionalY\", additionalY)\n",
    "                print(\"additionalX\", additionalX)\n",
    "                xAcc += additionalX\n",
    "                yAcc += additionalY\n",
    "                additionalCoordinates = [xAcc, yAcc]\n",
    "                print(\"additionalCoordinates\", additionalCoordinates)\n",
    "        return additionalCoordinates\n",
    "\n"
   ]
  },
  {
   "cell_type": "code",
   "execution_count": 35,
   "metadata": {},
   "outputs": [
    {
     "name": "stdout",
     "output_type": "stream",
     "text": [
      "value L\n",
      "value M\n",
      "direction W\n",
      "additionalY 0\n",
      "additionalX -1\n",
      "additionalCoordinates [0, 2]\n",
      "value L\n",
      "value M\n",
      "direction S\n",
      "additionalY -1\n",
      "additionalX 0\n",
      "additionalCoordinates [0, 1]\n",
      "value L\n",
      "value M\n",
      "direction E\n",
      "additionalY 0\n",
      "additionalX 1\n",
      "additionalCoordinates [1, 1]\n",
      "value L\n",
      "value M\n",
      "direction N\n",
      "additionalY 1\n",
      "additionalX 0\n",
      "additionalCoordinates [1, 2]\n",
      "value M\n",
      "direction N\n",
      "additionalY 1\n",
      "additionalX 0\n",
      "additionalCoordinates [1, 3]\n"
     ]
    },
    {
     "data": {
      "text/plain": [
       "[1, 3]"
      ]
     },
     "execution_count": 35,
     "metadata": {},
     "output_type": "execute_result"
    }
   ],
   "source": [
    "# class Test(unittest.Testcase):\n",
    "#     def test_two_initial_enters:\n",
    "\n",
    "calculate = Calculate()\n",
    "\n",
    "calculate.calculate_coordinates(1, 2, 'N', 'LMLMLMLMM')\n"
   ]
  },
  {
   "cell_type": "code",
   "execution_count": 34,
   "metadata": {},
   "outputs": [
    {
     "name": "stdout",
     "output_type": "stream",
     "text": [
      "value M\n",
      "direction E\n",
      "additionalY 0\n",
      "additionalX 1\n",
      "additionalCoordinates [4, 3]\n",
      "value M\n",
      "direction E\n",
      "additionalY 0\n",
      "additionalX 1\n",
      "additionalCoordinates [5, 3]\n",
      "value R\n",
      "value M\n",
      "direction S\n",
      "additionalY -1\n",
      "additionalX 0\n",
      "additionalCoordinates [5, 2]\n",
      "value M\n",
      "direction S\n",
      "additionalY -1\n",
      "additionalX 0\n",
      "additionalCoordinates [5, 1]\n",
      "value R\n",
      "value M\n",
      "direction W\n",
      "additionalY 0\n",
      "additionalX -1\n",
      "additionalCoordinates [4, 1]\n",
      "value R\n",
      "value R\n",
      "value M\n",
      "direction E\n",
      "additionalY 0\n",
      "additionalX 1\n",
      "additionalCoordinates [5, 1]\n"
     ]
    },
    {
     "data": {
      "text/plain": [
       "[5, 1]"
      ]
     },
     "execution_count": 34,
     "metadata": {},
     "output_type": "execute_result"
    }
   ],
   "source": [
    "calculate.calculate_coordinates(3,3,'E','MMRMMRMRRM' )"
   ]
  },
  {
   "cell_type": "code",
   "execution_count": null,
   "metadata": {},
   "outputs": [],
   "source": []
  }
 ],
 "metadata": {
  "kernelspec": {
   "display_name": "Python 3",
   "language": "python",
   "name": "python3"
  },
  "language_info": {
   "codemirror_mode": {
    "name": "ipython",
    "version": 3
   },
   "file_extension": ".py",
   "mimetype": "text/x-python",
   "name": "python",
   "nbconvert_exporter": "python",
   "pygments_lexer": "ipython3",
   "version": "3.10.6"
  },
  "orig_nbformat": 4,
  "vscode": {
   "interpreter": {
    "hash": "916dbcbb3f70747c44a77c7bcd40155683ae19c65e1c03b4aa3499c5328201f1"
   }
  }
 },
 "nbformat": 4,
 "nbformat_minor": 2
}
