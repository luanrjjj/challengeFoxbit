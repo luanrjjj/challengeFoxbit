{
 "cells": [
  {
   "cell_type": "code",
   "execution_count": 50,
   "metadata": {},
   "outputs": [],
   "source": [
    "import unittest\n",
    "\n",
    "class Calculate:\n",
    "    coordinates = ['N', 'E', 'S', 'W']\n",
    "\n",
    "    def get_direction(self, rotationCommand, index):\n",
    "         coordinates = Calculate.coordinates\n",
    "         if (rotationCommand == 'L'): \n",
    "            return coordinates[index - 1] if (index - 1 >= 0) else coordinates[len(coordinates) - 1]\n",
    "         elif (rotationCommand == 'R'):\n",
    "            return coordinates[index + 1] if (index + 1 < len(coordinates)) else coordinates[0]\n",
    "\n",
    "    def calculate_value (self, xAccumulator, yAccumulator, direction):\n",
    "        additionalX = 0\n",
    "        additionalY = 0\n",
    "\n",
    "        match direction:\n",
    "            case \"N\":\n",
    "                additionalY = 1\n",
    "            case \"S\":\n",
    "                additionalY = -1\n",
    "            case \"E\":\n",
    "                additionalX = 1\n",
    "            case \"W\":\n",
    "                additionalX = -1 \n",
    "        \n",
    "        xAccumulator += additionalX\n",
    "        yAccumulator += additionalY\n",
    "        return [xAccumulator, yAccumulator]\n",
    "            \n",
    "    def calculate_coordinates(self, xInitial, yInitial, direction, commands):\n",
    "        if not commands: \n",
    "            return (xInitial, yInitial)\n",
    "        if not direction:\n",
    "            print(\"It's necessary give a initial direction\")  \n",
    "        \n",
    "        coordinates = Calculate.coordinates\n",
    "        index = coordinates.index(direction)\n",
    "        xAcc = xInitial\n",
    "        yAcc = yInitial\n",
    "\n",
    "        for value in commands:            \n",
    "            if (value == 'L' or value == 'R'): \n",
    "                direction = self.get_direction(value, index)\n",
    "                index = coordinates.index(direction)\n",
    "            else: \n",
    "                additionalCoordinates = self.calculate_value(xAcc, yAcc, direction)\n",
    "        \n",
    "        return additionalCoordinates\n",
    "\n"
   ]
  },
  {
   "cell_type": "code",
   "execution_count": 51,
   "metadata": {},
   "outputs": [
    {
     "data": {
      "text/plain": [
       "[1, 3]"
      ]
     },
     "execution_count": 51,
     "metadata": {},
     "output_type": "execute_result"
    }
   ],
   "source": [
    "# class Test(unittest.Testcase):\n",
    "#     def test_two_initial_enters:\n",
    "\n",
    "calculate = Calculate()\n",
    "\n",
    "calculate.calculate_coordinates(1, 2, 'N', 'LMLMLMLMM')\n"
   ]
  },
  {
   "cell_type": "code",
   "execution_count": 34,
   "metadata": {},
   "outputs": [
    {
     "name": "stdout",
     "output_type": "stream",
     "text": [
      "value M\n",
      "direction E\n",
      "additionalY 0\n",
      "additionalX 1\n",
      "additionalCoordinates [4, 3]\n",
      "value M\n",
      "direction E\n",
      "additionalY 0\n",
      "additionalX 1\n",
      "additionalCoordinates [5, 3]\n",
      "value R\n",
      "value M\n",
      "direction S\n",
      "additionalY -1\n",
      "additionalX 0\n",
      "additionalCoordinates [5, 2]\n",
      "value M\n",
      "direction S\n",
      "additionalY -1\n",
      "additionalX 0\n",
      "additionalCoordinates [5, 1]\n",
      "value R\n",
      "value M\n",
      "direction W\n",
      "additionalY 0\n",
      "additionalX -1\n",
      "additionalCoordinates [4, 1]\n",
      "value R\n",
      "value R\n",
      "value M\n",
      "direction E\n",
      "additionalY 0\n",
      "additionalX 1\n",
      "additionalCoordinates [5, 1]\n"
     ]
    },
    {
     "data": {
      "text/plain": [
       "[5, 1]"
      ]
     },
     "execution_count": 34,
     "metadata": {},
     "output_type": "execute_result"
    }
   ],
   "source": [
    "calculate.calculate_coordinates(3,3,'E','MMRMMRMRRM' )"
   ]
  },
  {
   "cell_type": "code",
   "execution_count": null,
   "metadata": {},
   "outputs": [],
   "source": []
  }
 ],
 "metadata": {
  "kernelspec": {
   "display_name": "Python 3",
   "language": "python",
   "name": "python3"
  },
  "language_info": {
   "codemirror_mode": {
    "name": "ipython",
    "version": 3
   },
   "file_extension": ".py",
   "mimetype": "text/x-python",
   "name": "python",
   "nbconvert_exporter": "python",
   "pygments_lexer": "ipython3",
   "version": "3.10.6"
  },
  "orig_nbformat": 4,
  "vscode": {
   "interpreter": {
    "hash": "916dbcbb3f70747c44a77c7bcd40155683ae19c65e1c03b4aa3499c5328201f1"
   }
  }
 },
 "nbformat": 4,
 "nbformat_minor": 2
}
